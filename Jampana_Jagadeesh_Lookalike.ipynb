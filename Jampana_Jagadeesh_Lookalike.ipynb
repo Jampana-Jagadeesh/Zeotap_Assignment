{
  "nbformat": 4,
  "nbformat_minor": 0,
  "metadata": {
    "colab": {
      "provenance": []
    },
    "kernelspec": {
      "name": "python3",
      "display_name": "Python 3"
    },
    "language_info": {
      "name": "python"
    }
  },
  "cells": [
    {
      "cell_type": "markdown",
      "source": [
        "# Importing Libraries"
      ],
      "metadata": {
        "id": "7xdB6TC_axNU"
      }
    },
    {
      "cell_type": "code",
      "execution_count": 1,
      "metadata": {
        "id": "INZ8gFfOaHDy"
      },
      "outputs": [],
      "source": [
        "import pandas as pd\n",
        "from sklearn.feature_extraction.text import TfidfVectorizer\n",
        "from sklearn.metrics.pairwise import cosine_similarity"
      ]
    },
    {
      "cell_type": "markdown",
      "source": [
        "# Load datasets"
      ],
      "metadata": {
        "id": "o5ZrRlOra_pJ"
      }
    },
    {
      "cell_type": "code",
      "source": [
        "customers = pd.read_csv('/content/drive/MyDrive/Zeotap_Assignment/Customers.csv')\n",
        "products = pd.read_csv('/content/drive/MyDrive/Zeotap_Assignment/Products.csv')\n",
        "transactions = pd.read_csv('/content/drive/MyDrive/Zeotap_Assignment/Transactions.csv')"
      ],
      "metadata": {
        "id": "6wbdPhr5a1_W"
      },
      "execution_count": 3,
      "outputs": []
    },
    {
      "cell_type": "markdown",
      "source": [
        "# Convert date columns to datetime"
      ],
      "metadata": {
        "id": "hyAMJt5ibKsr"
      }
    },
    {
      "cell_type": "code",
      "source": [
        "customers['SignupDate'] = pd.to_datetime(customers['SignupDate'])\n",
        "transactions['TransactionDate'] = pd.to_datetime(transactions['TransactionDate'])"
      ],
      "metadata": {
        "id": "NGhcQdSlbC39"
      },
      "execution_count": 4,
      "outputs": []
    },
    {
      "cell_type": "markdown",
      "source": [
        "# Merge datasets"
      ],
      "metadata": {
        "id": "JIXTybdDbQ3d"
      }
    },
    {
      "cell_type": "code",
      "source": [
        "data = transactions.merge(customers, on='CustomerID').merge(products, on='ProductID')"
      ],
      "metadata": {
        "id": "KSFJobYVbOW8"
      },
      "execution_count": 5,
      "outputs": []
    },
    {
      "cell_type": "markdown",
      "source": [
        "# **Feature Engineering**"
      ],
      "metadata": {
        "id": "VLWMBcMCbZ7I"
      }
    },
    {
      "cell_type": "markdown",
      "source": [
        "# Create customer profiles with aggregated features"
      ],
      "metadata": {
        "id": "sp9v9eolbfDO"
      }
    },
    {
      "cell_type": "code",
      "source": [
        "customer_profiles = data.groupby('CustomerID').agg({\n",
        "    'Region': 'first',\n",
        "    'Category': lambda x: ' '.join(x),  # Combine purchased product categories\n",
        "    'TotalValue': 'sum',               # Total spending\n",
        "    'Quantity': 'sum'                  # Total quantity purchased\n",
        "}).reset_index()\n"
      ],
      "metadata": {
        "id": "kNgsXbvwbUyE"
      },
      "execution_count": 7,
      "outputs": []
    },
    {
      "cell_type": "markdown",
      "source": [
        "# Combine text-based features"
      ],
      "metadata": {
        "id": "Aq3s_JwKbm9x"
      }
    },
    {
      "cell_type": "code",
      "source": [
        "customer_profiles['ProfileText'] = customer_profiles['Region'] + ' ' + customer_profiles['Category']"
      ],
      "metadata": {
        "id": "rk6l-YYKbeFA"
      },
      "execution_count": 8,
      "outputs": []
    },
    {
      "cell_type": "markdown",
      "source": [
        "# Vectorize text-based features using TF-IDF"
      ],
      "metadata": {
        "id": "HQ9PRxUXbsKC"
      }
    },
    {
      "cell_type": "code",
      "source": [
        "tfidf = TfidfVectorizer()\n",
        "profile_vectors = tfidf.fit_transform(customer_profiles['ProfileText'])"
      ],
      "metadata": {
        "id": "SwTsC4CAbpxn"
      },
      "execution_count": 9,
      "outputs": []
    },
    {
      "cell_type": "markdown",
      "source": [
        "# Compute similarity matrix"
      ],
      "metadata": {
        "id": "WUB6L6wUbzJo"
      }
    },
    {
      "cell_type": "code",
      "source": [
        "similarity_matrix = cosine_similarity(profile_vectors)"
      ],
      "metadata": {
        "id": "eejpu2FFbur7"
      },
      "execution_count": 11,
      "outputs": []
    },
    {
      "cell_type": "markdown",
      "source": [
        "# Find top 3 lookalike customers for each of the first 20 customers"
      ],
      "metadata": {
        "id": "N-zjevdQb_cK"
      }
    },
    {
      "cell_type": "code",
      "source": [
        " # Dictionary to store lookalike results for each customer\n",
        "lookalike_map = {}\n",
        "\n",
        "for i in range(20):  # For CustomerID: C0001 to C0020\n",
        "    customer_id = customer_profiles.iloc[i]['CustomerID']  # Get the CustomerID of the current customer\n",
        "    similarity_scores = list(enumerate(similarity_matrix[i])) # Get similarity scores for the current customer\n",
        "\n",
        "\n",
        "    # Exclude the customer itself and sort other customers by similarity score in descending order\n",
        "    similarity_scores = sorted(\n",
        "        [(customer_profiles.iloc[j]['CustomerID'], score) for j, score in similarity_scores if j != i],\n",
        "        key=lambda x: x[1], # Sort by the similarity score\n",
        "        reverse=True # Descending order\n",
        "    )\n",
        "\n",
        "    # Store the top 3 most similar customers and their similarity scores in the dictionary\n",
        "    lookalike_map[customer_id] = similarity_scores[:3]  # Top 3 lookalikes\n"
      ],
      "metadata": {
        "id": "IhDXBqKob2_H"
      },
      "execution_count": 12,
      "outputs": []
    },
    {
      "cell_type": "markdown",
      "source": [
        "# Save lookalike results to CSV"
      ],
      "metadata": {
        "id": "hYi6jhEqcH95"
      }
    },
    {
      "cell_type": "code",
      "source": [
        "# List to store rows for the CSV\n",
        "lookalike_data = []\n",
        "for cust_id, lookalikes in lookalike_map.items(): # Loop through each customer and their lookalikes\n",
        "    lookalike_data.append({\n",
        "        'CustomerID': cust_id, # Current customer ID\n",
        "\n",
        "         # List of tuples (lookalike customer ID, similarity score) rounded to 4 decimal places\n",
        "        'Lookalikes': [(l_id, round(score, 4)) for l_id, score in lookalikes]\n",
        "    })\n",
        "\n",
        "# Convert the lookalike data to a DataFrame\n",
        "lookalike_df = pd.DataFrame(lookalike_data)\n",
        "\n",
        "# Save the DataFrame to a CSV file named 'Lookalike.csv'\n",
        "lookalike_df.to_csv('Lookalike.csv', index=False)\n",
        "\n",
        "print(\"Lookalike Model Completed. Results saved to Lookalike.csv.\")"
      ],
      "metadata": {
        "colab": {
          "base_uri": "https://localhost:8080/"
        },
        "id": "rve_FNQncCvk",
        "outputId": "c12b02a7-3ca1-4567-c9df-d54918b9a5e1"
      },
      "execution_count": 13,
      "outputs": [
        {
          "output_type": "stream",
          "name": "stdout",
          "text": [
            "Lookalike Model Completed. Results saved to Lookalike.csv.\n"
          ]
        }
      ]
    },
    {
      "cell_type": "code",
      "source": [],
      "metadata": {
        "id": "OA2GUm3ecKoQ"
      },
      "execution_count": null,
      "outputs": []
    }
  ]
}